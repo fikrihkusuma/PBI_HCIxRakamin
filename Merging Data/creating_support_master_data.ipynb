{
 "cells": [
  {
   "cell_type": "code",
   "execution_count": 1,
   "id": "311db9df-2b74-490e-ae8f-a835f1260e7e",
   "metadata": {
    "editable": true,
    "slideshow": {
     "slide_type": ""
    },
    "tags": []
   },
   "outputs": [],
   "source": [
    "import pandas as pd\n",
    "import numpy as np\n",
    "\n",
    "# Load datasets\n",
    "bureau = pd.read_csv('bureau.csv')\n",
    "bureau_balance = pd.read_csv('bureau_balance.csv')\n",
    "pos_cash_balance = pd.read_csv('POS_CASH_balance.csv')\n",
    "credit_card_balance = pd.read_csv('credit_card_balance.csv')\n",
    "previous_application = pd.read_csv('previous_application.csv')\n",
    "installments_payments = pd.read_csv('installments_payments.csv')"
   ]
  },
  {
   "cell_type": "code",
   "execution_count": 3,
   "id": "33aa5ceb-9e10-450b-9c3d-3a617114ca87",
   "metadata": {},
   "outputs": [],
   "source": [
    "# Aggregate bureau_balance to summarize SK_BUREAU_ID\n",
    "bureau_balance_agg = bureau_balance.groupby('SK_ID_BUREAU').agg({\n",
    "    'MONTHS_BALANCE': ['min', 'max', 'mean'],\n",
    "    'STATUS': lambda x: x.mode()[0] if not x.mode().empty else np.nan\n",
    "}).reset_index()\n",
    "\n",
    "bureau_balance_agg.columns = ['SK_ID_BUREAU'] + ['BUREAU_BAL_' + col[1].upper() for col in bureau_balance_agg.columns[1:]]\n",
    "\n",
    "# Merge with bureau\n",
    "bureau = bureau.merge(bureau_balance_agg, on='SK_ID_BUREAU', how='left')\n",
    "\n",
    "# Aggregate bureau by SK_ID_CURR\n",
    "bureau_agg = bureau.groupby('SK_ID_CURR').agg({\n",
    "    'CREDIT_ACTIVE': lambda x: x.mode()[0] if not x.mode().empty else np.nan,\n",
    "    'AMT_CREDIT_SUM': ['sum', 'mean'],\n",
    "    'AMT_CREDIT_SUM_DEBT': ['sum', 'mean'],\n",
    "    'CREDIT_DAY_OVERDUE': ['max', 'mean']\n",
    "}).reset_index()\n",
    "\n",
    "bureau_agg.columns = ['SK_ID_CURR'] + ['BUREAU_' + col[1].upper() for col in bureau_agg.columns[1:]]"
   ]
  },
  {
   "cell_type": "code",
   "execution_count": 4,
   "id": "8d79acb5-4b2c-4967-bed3-f78c9dd6752c",
   "metadata": {
    "editable": true,
    "slideshow": {
     "slide_type": ""
    },
    "tags": []
   },
   "outputs": [],
   "source": [
    "pos_cash_agg = pos_cash_balance.groupby('SK_ID_CURR').agg({\n",
    "    'CNT_INSTALMENT_FUTURE': ['min', 'max', 'mean'],\n",
    "    'SK_DPD': ['max', 'mean']\n",
    "}).reset_index()\n",
    "\n",
    "pos_cash_agg.columns = ['SK_ID_CURR'] + ['POS_' + col[1].upper() for col in pos_cash_agg.columns[1:]]"
   ]
  },
  {
   "cell_type": "code",
   "execution_count": 5,
   "id": "a4de4064-71a9-4440-8594-47d2d917bc52",
   "metadata": {},
   "outputs": [],
   "source": [
    "credit_card_agg = credit_card_balance.groupby('SK_ID_CURR').agg({\n",
    "    'AMT_BALANCE': ['mean', 'max'],\n",
    "    'AMT_PAYMENT_CURRENT': ['sum', 'mean'],\n",
    "    'SK_DPD': ['max', 'mean']\n",
    "}).reset_index()\n",
    "\n",
    "credit_card_agg.columns = ['SK_ID_CURR'] + ['CC_' + col[1].upper() for col in credit_card_agg.columns[1:]]"
   ]
  },
  {
   "cell_type": "code",
   "execution_count": 6,
   "id": "8e121803-4cd9-407a-936d-fd946f5a6f64",
   "metadata": {},
   "outputs": [],
   "source": [
    "prev_app_agg = previous_application.groupby('SK_ID_CURR').agg({\n",
    "    'AMT_ANNUITY': ['mean', 'max'],\n",
    "    'AMT_CREDIT': ['mean', 'max'],\n",
    "    'AMT_DOWN_PAYMENT': ['sum', 'mean'],\n",
    "    'RATE_DOWN_PAYMENT': ['mean'],\n",
    "    'DAYS_DECISION': ['max', 'min']\n",
    "}).reset_index()\n",
    "\n",
    "prev_app_agg.columns = ['SK_ID_CURR'] + ['PREV_' + col[1].upper() for col in prev_app_agg.columns[1:]]"
   ]
  },
  {
   "cell_type": "code",
   "execution_count": 7,
   "id": "986bd075-9765-4043-b587-891a5ad79ab6",
   "metadata": {},
   "outputs": [],
   "source": [
    "installments_agg = installments_payments.groupby('SK_ID_CURR').agg({\n",
    "    'AMT_PAYMENT': ['sum', 'mean'],\n",
    "    'AMT_INSTALMENT': ['sum', 'mean'],\n",
    "    'DAYS_ENTRY_PAYMENT': ['max', 'min']\n",
    "}).reset_index()\n",
    "\n",
    "installments_agg.columns = ['SK_ID_CURR'] + ['INST_' + col[1].upper() for col in installments_agg.columns[1:]]"
   ]
  },
  {
   "cell_type": "code",
   "execution_count": 8,
   "id": "f1a1b7eb-024a-4b99-a2f2-b3e5623ea1bd",
   "metadata": {},
   "outputs": [],
   "source": [
    "# Start with bureau_agg and progressively merge other datasets\n",
    "supporting_master_data = bureau_agg.merge(\n",
    "    pos_cash_agg, on='SK_ID_CURR', how='left'\n",
    ").merge(\n",
    "    credit_card_agg, on='SK_ID_CURR', how='left'\n",
    ").merge(\n",
    "    prev_app_agg, on='SK_ID_CURR', how='left'\n",
    ").merge(\n",
    "    installments_agg, on='SK_ID_CURR', how='left'\n",
    ")"
   ]
  },
  {
   "cell_type": "code",
   "execution_count": 9,
   "id": "3b38306c-5315-46ae-a084-b0065f1e0cce",
   "metadata": {},
   "outputs": [],
   "source": [
    "# Save the supporting master data\n",
    "supporting_master_data.to_csv('supporting_master_data.csv', index=False)"
   ]
  },
  {
   "cell_type": "code",
   "execution_count": 17,
   "id": "ef61dbf8-668a-46e2-94fd-9d2e9b5e2dc5",
   "metadata": {
    "editable": true,
    "slideshow": {
     "slide_type": ""
    },
    "tags": []
   },
   "outputs": [
    {
     "name": "stdout",
     "output_type": "stream",
     "text": [
      "Number of duplicate rows: 0\n",
      "\n",
      "Missing Values Summary:\n",
      "            Feature  Missing Count  Missing Percentage\n",
      "16          CC_MEAN         242922           79.435338\n",
      "17           CC_MAX         215881           70.592948\n",
      "18          CC_MEAN         215881           70.592948\n",
      "15           CC_SUM         215881           70.592948\n",
      "14           CC_MAX         215881           70.592948\n",
      "13          CC_MEAN         215881           70.592948\n",
      "25        PREV_MEAN          31577           10.325659\n",
      "24        PREV_MEAN          31577           10.325659\n",
      "8           POS_MIN          16005            5.233625\n",
      "9           POS_MAX          16005            5.233625\n",
      "10         POS_MEAN          16005            5.233625\n",
      "12         POS_MEAN          15983            5.226431\n",
      "11          POS_MAX          15983            5.226431\n",
      "19        PREV_MEAN          15160            4.957310\n",
      "20         PREV_MAX          15160            4.957310\n",
      "22         PREV_MAX          14720            4.813431\n",
      "26         PREV_MAX          14720            4.813431\n",
      "27         PREV_MIN          14720            4.813431\n",
      "23         PREV_SUM          14720            4.813431\n",
      "21        PREV_MEAN          14720            4.813431\n",
      "29        INST_MEAN          14114            4.615269\n",
      "32         INST_MAX          14114            4.615269\n",
      "33         INST_MIN          14114            4.615269\n",
      "28         INST_SUM          14107            4.612980\n",
      "30         INST_SUM          14107            4.612980\n",
      "31        INST_MEAN          14107            4.612980\n",
      "5       BUREAU_MEAN           8372            2.737639\n",
      "3       BUREAU_MEAN              2            0.000654\n",
      "1   BUREAU_<LAMBDA>              0            0.000000\n",
      "7       BUREAU_MEAN              0            0.000000\n",
      "6        BUREAU_MAX              0            0.000000\n",
      "4        BUREAU_SUM              0            0.000000\n",
      "2        BUREAU_SUM              0            0.000000\n",
      "0        SK_ID_CURR              0            0.000000\n"
     ]
    }
   ],
   "source": [
    "# Check for duplicates\n",
    "num_duplicates = supporting_master_data.duplicated().sum()\n",
    "print(f\"Number of duplicate rows: {num_duplicates}\")\n",
    "\n",
    "# Check for missing values (exact count and percentage)\n",
    "missing_values = supporting_master_data.isnull().sum()\n",
    "missing_percent = (missing_values / len(supporting_master_data)) * 100\n",
    "\n",
    "missing_df = pd.DataFrame({\n",
    "    'Feature': supporting_master_data.columns,\n",
    "    'Missing Count': missing_values,\n",
    "    'Missing Percentage': missing_percent\n",
    "}).reset_index(drop=True)\n",
    "\n",
    "print(\"\\nMissing Values Summary:\")\n",
    "print(missing_df.sort_values(by='Missing Percentage', ascending=False))"
   ]
  },
  {
   "cell_type": "code",
   "execution_count": null,
   "id": "8114f9d5-ce0f-487a-b5be-f8c4e8daa73d",
   "metadata": {
    "editable": true,
    "slideshow": {
     "slide_type": ""
    },
    "tags": []
   },
   "outputs": [],
   "source": []
  }
 ],
 "metadata": {
  "kernelspec": {
   "display_name": "Python 3 (ipykernel)",
   "language": "python",
   "name": "python3"
  },
  "language_info": {
   "codemirror_mode": {
    "name": "ipython",
    "version": 3
   },
   "file_extension": ".py",
   "mimetype": "text/x-python",
   "name": "python",
   "nbconvert_exporter": "python",
   "pygments_lexer": "ipython3",
   "version": "3.11.8"
  }
 },
 "nbformat": 4,
 "nbformat_minor": 5
}
